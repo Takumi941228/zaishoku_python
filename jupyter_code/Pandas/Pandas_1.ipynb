{
 "cells": [
  {
   "cell_type": "code",
   "execution_count": 5,
   "metadata": {},
   "outputs": [],
   "source": [
    "# pandasモジュールをpsという名前でのimport\n",
    "import pandas as pd"
   ]
  },
  {
   "cell_type": "code",
   "execution_count": 6,
   "metadata": {},
   "outputs": [
    {
     "data": {
      "text/plain": [
       "0     3\n",
       "1     6\n",
       "2     9\n",
       "3    12\n",
       "dtype: int64"
      ]
     },
     "execution_count": 6,
     "metadata": {},
     "output_type": "execute_result"
    }
   ],
   "source": [
    "# numpy.arrayのようにPandasのSeriesを作成\n",
    "obj = pd.Series([3,6,9,12])\n",
    "\n",
    "# np.arrayとpd.Seriesの違いは、Seriesにはラベル(index)が標準で付くところ\n",
    "obj"
   ]
  },
  {
   "cell_type": "code",
   "execution_count": 7,
   "metadata": {},
   "outputs": [
    {
     "data": {
      "text/plain": [
       "array([ 3,  6,  9, 12], dtype=int64)"
      ]
     },
     "execution_count": 7,
     "metadata": {},
     "output_type": "execute_result"
    }
   ],
   "source": [
    "# valuesは入力値\n",
    "obj.values"
   ]
  },
  {
   "cell_type": "code",
   "execution_count": 9,
   "metadata": {},
   "outputs": [
    {
     "data": {
      "text/plain": [
       "RangeIndex(start=0, stop=4, step=1)"
      ]
     },
     "execution_count": 9,
     "metadata": {},
     "output_type": "execute_result"
    }
   ],
   "source": [
    "# indexはラベル サンプルは0で始まって1ステップごとに4の手前(3)まで\n",
    "obj.index"
   ]
  },
  {
   "cell_type": "code",
   "execution_count": 17,
   "metadata": {},
   "outputs": [
    {
     "data": {
      "text/plain": [
       "宇都宮市     515201\n",
       "小山市      166643\n",
       "足利市      141609\n",
       "那須塩原市    114846\n",
       "佐野市      114302\n",
       "dtype: int64"
      ]
     },
     "execution_count": 17,
     "metadata": {},
     "output_type": "execute_result"
    }
   ],
   "source": [
    "# ラベルを自分で付けたSeriesのデータを作る\n",
    "# 東京都人口\n",
    "tochigi_population = pd.Series([515201,166643,141609,114846,114302],index=['宇都宮市','小山市','足利市','那須塩原市','佐野市'])\n",
    "tochigi_population"
   ]
  },
  {
   "cell_type": "code",
   "execution_count": 25,
   "metadata": {},
   "outputs": [
    {
     "data": {
      "text/plain": [
       "515201"
      ]
     },
     "execution_count": 25,
     "metadata": {},
     "output_type": "execute_result"
    }
   ],
   "source": [
    "# 文字列のラベルでアクセス可能\n",
    "tochigi_population['宇都宮市']"
   ]
  },
  {
   "cell_type": "code",
   "execution_count": 26,
   "metadata": {},
   "outputs": [
    {
     "data": {
      "text/plain": [
       "市名\n",
       "宇都宮市    515201\n",
       "Name: 栃木県の市別人口(抜粋), dtype: int64"
      ]
     },
     "execution_count": 26,
     "metadata": {},
     "output_type": "execute_result"
    }
   ],
   "source": [
    "# 20万人以上の市を抽出\n",
    "tochigi_population[tochigi_population>200000]"
   ]
  },
  {
   "cell_type": "code",
   "execution_count": 27,
   "metadata": {},
   "outputs": [
    {
     "data": {
      "text/plain": [
       "市名\n",
       "宇都宮市     515201\n",
       "小山市      166643\n",
       "足利市      141609\n",
       "那須塩原市    114846\n",
       "佐野市      114302\n",
       "Name: 栃木県の市別人口(抜粋), dtype: int64"
      ]
     },
     "execution_count": 27,
     "metadata": {},
     "output_type": "execute_result"
    }
   ],
   "source": [
    "# Seriesには名前を付けることも可能\n",
    "tochigi_population.name = '栃木県の市別人口(抜粋)'\n",
    "tochigi_population"
   ]
  },
  {
   "cell_type": "code",
   "execution_count": 24,
   "metadata": {},
   "outputs": [
    {
     "data": {
      "text/plain": [
       "市名\n",
       "宇都宮市     515201\n",
       "小山市      166643\n",
       "足利市      141609\n",
       "那須塩原市    114846\n",
       "佐野市      114302\n",
       "Name: 栃木県の市別人口(抜粋), dtype: int64"
      ]
     },
     "execution_count": 24,
     "metadata": {},
     "output_type": "execute_result"
    }
   ],
   "source": [
    "# ラベル(index)の名前も付けることが可能\n",
    "tochigi_population.index.name = '市名'\n",
    "tochigi_population"
   ]
  }
 ],
 "metadata": {
  "kernelspec": {
   "display_name": "Python 3.9.12 ('base')",
   "language": "python",
   "name": "python3"
  },
  "language_info": {
   "codemirror_mode": {
    "name": "ipython",
    "version": 3
   },
   "file_extension": ".py",
   "mimetype": "text/x-python",
   "name": "python",
   "nbconvert_exporter": "python",
   "pygments_lexer": "ipython3",
   "version": "3.9.12"
  },
  "vscode": {
   "interpreter": {
    "hash": "a077222d77dfe082b8f1dd562ad70e458ac2ab76993a0b248ab0476e32e9e8dd"
   }
  }
 },
 "nbformat": 4,
 "nbformat_minor": 1
}
