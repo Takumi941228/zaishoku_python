{
 "cells": [
  {
   "cell_type": "markdown",
   "metadata": {},
   "source": [
    "演習プログラム１"
   ]
  },
  {
   "cell_type": "code",
   "execution_count": 13,
   "metadata": {},
   "outputs": [],
   "source": [
    "# pandasをpsという名前でのimport\n",
    "import pandas as pd"
   ]
  },
  {
   "cell_type": "code",
   "execution_count": 14,
   "metadata": {},
   "outputs": [],
   "source": [
    "#リストを作成\n",
    "list = [10,20,30,50]"
   ]
  },
  {
   "cell_type": "code",
   "execution_count": 15,
   "metadata": {},
   "outputs": [
    {
     "data": {
      "text/plain": [
       "0    10\n",
       "1    20\n",
       "2    30\n",
       "3    50\n",
       "dtype: int64"
      ]
     },
     "execution_count": 15,
     "metadata": {},
     "output_type": "execute_result"
    }
   ],
   "source": [
    "pd.Series(list)"
   ]
  },
  {
   "cell_type": "code",
   "execution_count": 16,
   "metadata": {},
   "outputs": [
    {
     "data": {
      "text/plain": [
       "0     3\n",
       "1     6\n",
       "2     9\n",
       "3    12\n",
       "dtype: int64"
      ]
     },
     "execution_count": 16,
     "metadata": {},
     "output_type": "execute_result"
    }
   ],
   "source": [
    "# numpy.arrayのようにPandasのSeriesを作成\n",
    "obj = pd.Series([3,6,9,12])\n",
    "\n",
    "# np.arrayとpd.Seriesの違いは、Seriesにはラベル(index)が標準で付くところ\n",
    "obj"
   ]
  },
  {
   "cell_type": "markdown",
   "metadata": {},
   "source": [
    "補足プログラム"
   ]
  },
  {
   "cell_type": "code",
   "execution_count": 19,
   "metadata": {},
   "outputs": [
    {
     "data": {
      "text/plain": [
       "宇都宮市     515201\n",
       "小山市      166643\n",
       "足利市      141609\n",
       "那須塩原市    114846\n",
       "佐野市      114302\n",
       "dtype: int64"
      ]
     },
     "execution_count": 19,
     "metadata": {},
     "output_type": "execute_result"
    }
   ],
   "source": [
    "# indexにラベルを自分で付けたSeriesのデータを作る\n",
    "# 宇都宮市人口：51万人、小山市人口：16万人、足利市人口：14万人、那須塩原市人口：11万人、佐野市人口：11万人\n",
    "tochigi_population = pd.Series([515201,166643,141609,114846,114302],index=['宇都宮市','小山市','足利市','那須塩原市','佐野市'])\n",
    "tochigi_population"
   ]
  },
  {
   "cell_type": "code",
   "execution_count": 20,
   "metadata": {},
   "outputs": [
    {
     "data": {
      "text/plain": [
       "515201"
      ]
     },
     "execution_count": 20,
     "metadata": {},
     "output_type": "execute_result"
    }
   ],
   "source": [
    "# 文字列のラベルでアクセス可能\n",
    "tochigi_population['宇都宮市']"
   ]
  },
  {
   "cell_type": "code",
   "execution_count": 21,
   "metadata": {},
   "outputs": [
    {
     "data": {
      "text/plain": [
       "宇都宮市    515201\n",
       "dtype: int64"
      ]
     },
     "execution_count": 21,
     "metadata": {},
     "output_type": "execute_result"
    }
   ],
   "source": [
    "# 20万人以上の市を抽出\n",
    "tochigi_population[tochigi_population>200000]"
   ]
  },
  {
   "cell_type": "code",
   "execution_count": 22,
   "metadata": {},
   "outputs": [
    {
     "data": {
      "text/plain": [
       "宇都宮市     515201\n",
       "小山市      166643\n",
       "足利市      141609\n",
       "那須塩原市    114846\n",
       "佐野市      114302\n",
       "Name: 栃木県の市別人口(抜粋), dtype: int64"
      ]
     },
     "execution_count": 22,
     "metadata": {},
     "output_type": "execute_result"
    }
   ],
   "source": [
    "# Seriesには名前を付けることも可能\n",
    "tochigi_population.name = '栃木県の市別人口(抜粋)'\n",
    "tochigi_population"
   ]
  },
  {
   "cell_type": "code",
   "execution_count": 23,
   "metadata": {},
   "outputs": [
    {
     "data": {
      "text/plain": [
       "市名\n",
       "宇都宮市     515201\n",
       "小山市      166643\n",
       "足利市      141609\n",
       "那須塩原市    114846\n",
       "佐野市      114302\n",
       "Name: 栃木県の市別人口(抜粋), dtype: int64"
      ]
     },
     "execution_count": 23,
     "metadata": {},
     "output_type": "execute_result"
    }
   ],
   "source": [
    "# ラベル(index)の名前も付けることが可能\n",
    "tochigi_population.index.name = '市名'\n",
    "tochigi_population"
   ]
  }
 ],
 "metadata": {
  "kernelspec": {
   "display_name": "Python 3.9.12 ('base')",
   "language": "python",
   "name": "python3"
  },
  "language_info": {
   "codemirror_mode": {
    "name": "ipython",
    "version": 3
   },
   "file_extension": ".py",
   "mimetype": "text/x-python",
   "name": "python",
   "nbconvert_exporter": "python",
   "pygments_lexer": "ipython3",
   "version": "3.9.12"
  },
  "vscode": {
   "interpreter": {
    "hash": "a077222d77dfe082b8f1dd562ad70e458ac2ab76993a0b248ab0476e32e9e8dd"
   }
  }
 },
 "nbformat": 4,
 "nbformat_minor": 1
}
